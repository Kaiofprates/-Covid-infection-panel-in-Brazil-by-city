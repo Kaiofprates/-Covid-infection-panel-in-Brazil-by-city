{
 "cells": [
  {
   "cell_type": "code",
   "execution_count": 3,
   "metadata": {},
   "outputs": [],
   "source": [
    "import numpy as np\n",
    "import pandas as pd\n"
   ]
  },
  {
   "cell_type": "code",
   "execution_count": 4,
   "metadata": {},
   "outputs": [],
   "source": [
    "df = pd.read_csv('./HIST_PAINEL_COVIDBR_02dez2020.csv', sep=';', error_bad_lines=False)"
   ]
  },
  {
   "cell_type": "code",
   "execution_count": 10,
   "metadata": {},
   "outputs": [
    {
     "data": {
      "text/plain": [
       "municipio\n",
       "Abadia de Goiás        520005.0\n",
       "Abadia dos Dourados    310010.0\n",
       "Abadiânia              520010.0\n",
       "Abaetetuba             150010.0\n",
       "Abaeté                 310020.0\n",
       "Name: codmun, dtype: float64"
      ]
     },
     "execution_count": 10,
     "metadata": {},
     "output_type": "execute_result"
    }
   ],
   "source": [
    "municipios  = df[['municipio', 'codmun']].groupby('municipio', as_index=True).mean()\n",
    "cit_list = dict(municipios)\n",
    "cit_list['codmun'][:5]\n"
   ]
  },
  {
   "cell_type": "code",
   "execution_count": 11,
   "metadata": {},
   "outputs": [
    {
     "data": {
      "text/plain": [
       "314330.0"
      ]
     },
     "execution_count": 11,
     "metadata": {},
     "output_type": "execute_result"
    }
   ],
   "source": [
    "cit_list['codmun']['Montes Claros']"
   ]
  },
  {
   "cell_type": "code",
   "execution_count": 12,
   "metadata": {},
   "outputs": [
    {
     "ename": "SyntaxError",
     "evalue": "invalid syntax (<ipython-input-12-0626e53c515e>, line 3)",
     "output_type": "error",
     "traceback": [
      "\u001b[0;36m  File \u001b[0;32m\"<ipython-input-12-0626e53c515e>\"\u001b[0;36m, line \u001b[0;32m3\u001b[0m\n\u001b[0;31m    'codmun','semanaEpi',,'casosAcumulado',\u001b[0m\n\u001b[0m                         ^\u001b[0m\n\u001b[0;31mSyntaxError\u001b[0m\u001b[0;31m:\u001b[0m invalid syntax\n"
     ]
    }
   ],
   "source": [
    "index  = [\n",
    "         'regiao','municipio',\n",
    "         'codmun','semanaEpi',,'casosAcumulado',\n",
    "         'casosNovos','obitosAcumulado',\n",
    "         'obitosNovos','Recuperadosnovos',\n",
    "         'emAcompanhamentoNovos']\n",
    "cit = df[index].where(df['codmun'] == 314330.0 ) \n",
    "cit.dropna(subset=['codmun'], inplace=True)\n",
    "cit.head()"
   ]
  },
  {
   "cell_type": "code",
   "execution_count": null,
   "metadata": {},
   "outputs": [],
   "source": []
  }
 ],
 "metadata": {
  "kernelspec": {
   "display_name": "Python 3.7.3 64-bit ('tcc': venv)",
   "language": "python",
   "name": "python37364bittccvenv59142e8e4a294695828c55e12d6e6ba7"
  },
  "language_info": {
   "codemirror_mode": {
    "name": "ipython",
    "version": 3
   },
   "file_extension": ".py",
   "mimetype": "text/x-python",
   "name": "python",
   "nbconvert_exporter": "python",
   "pygments_lexer": "ipython3",
   "version": "3.7.3"
  }
 },
 "nbformat": 4,
 "nbformat_minor": 4
}
